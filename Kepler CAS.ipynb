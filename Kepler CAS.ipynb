{
 "cells": [
  {
   "cell_type": "code",
   "execution_count": 1,
   "id": "c3c003ae",
   "metadata": {},
   "outputs": [],
   "source": [
    "%display latex"
   ]
  },
  {
   "cell_type": "code",
   "execution_count": 2,
   "id": "79132e9f",
   "metadata": {},
   "outputs": [
    {
     "data": {
      "text/html": [
       "<html>\\(\\displaystyle \\left(t, \\mathit{GM}\\right)\\)</html>"
      ],
      "text/latex": [
       "$\\displaystyle \\left(t, \\mathit{GM}\\right)$"
      ],
      "text/plain": [
       "(t, GM)"
      ]
     },
     "execution_count": 2,
     "metadata": {},
     "output_type": "execute_result"
    }
   ],
   "source": [
    "var('t GM')"
   ]
  },
  {
   "cell_type": "code",
   "execution_count": 3,
   "id": "a40341ee",
   "metadata": {},
   "outputs": [],
   "source": [
    "x = function('x')(t)\n",
    "y = function('y')(t)"
   ]
  },
  {
   "cell_type": "code",
   "execution_count": 4,
   "id": "8817e1d8",
   "metadata": {},
   "outputs": [
    {
     "data": {
      "text/html": [
       "<html>\\(\\displaystyle {\\left(x\\left(t\\right)^{2} + y\\left(t\\right)^{2}\\right)}^{\\frac{3}{2}}\\)</html>"
      ],
      "text/latex": [
       "$\\displaystyle {\\left(x\\left(t\\right)^{2} + y\\left(t\\right)^{2}\\right)}^{\\frac{3}{2}}$"
      ],
      "text/plain": [
       "(x(t)^2 + y(t)^2)^(3/2)"
      ]
     },
     "execution_count": 4,
     "metadata": {},
     "output_type": "execute_result"
    }
   ],
   "source": [
    "r3 = (x^2 + y^2)^(3/2)\n",
    "r3"
   ]
  },
  {
   "cell_type": "code",
   "execution_count": 5,
   "id": "b0c923d8",
   "metadata": {},
   "outputs": [],
   "source": [
    "eq1 = diff(x, t, 2) + GM / r3 * x\n",
    "eq2 = diff(y, t, 2) + GM / r3 * y"
   ]
  },
  {
   "cell_type": "code",
   "execution_count": 6,
   "id": "60479cac",
   "metadata": {},
   "outputs": [
    {
     "data": {
      "text/html": [
       "<html>\\(\\displaystyle \\frac{\\mathit{GM} x\\left(t\\right)}{{\\left(x\\left(t\\right)^{2} + y\\left(t\\right)^{2}\\right)}^{\\frac{3}{2}}} + \\frac{\\partial^{2}}{(\\partial t)^{2}}x\\left(t\\right)\\)</html>"
      ],
      "text/latex": [
       "$\\displaystyle \\frac{\\mathit{GM} x\\left(t\\right)}{{\\left(x\\left(t\\right)^{2} + y\\left(t\\right)^{2}\\right)}^{\\frac{3}{2}}} + \\frac{\\partial^{2}}{(\\partial t)^{2}}x\\left(t\\right)$"
      ],
      "text/plain": [
       "GM*x(t)/(x(t)^2 + y(t)^2)^(3/2) + diff(x(t), t, t)"
      ]
     },
     "execution_count": 6,
     "metadata": {},
     "output_type": "execute_result"
    }
   ],
   "source": [
    "eq1"
   ]
  },
  {
   "cell_type": "code",
   "execution_count": 7,
   "id": "61257faa",
   "metadata": {},
   "outputs": [
    {
     "data": {
      "text/html": [
       "<html>\\(\\displaystyle \\left[x\\left(t\\right) = \\mathcal{L}^{-1}\\left(-\\frac{\\mathit{GM} \\mathcal{L}\\left(\\frac{x\\left(t\\right)}{{\\left(x\\left(t\\right)^{2} + y\\left(t\\right)^{2}\\right)}^{\\frac{3}{2}}}, t, g_{1626}\\right) - g_{1626} x\\left(0\\right) - \\mathrm{D}_{0}\\left(x\\right)\\left(0\\right)}{g_{1626}^{2}}, g_{1626}, t\\right), y\\left(t\\right) = \\mathcal{L}^{-1}\\left(-\\frac{\\mathit{GM} \\mathcal{L}\\left(\\frac{y\\left(t\\right)}{{\\left(x\\left(t\\right)^{2} + y\\left(t\\right)^{2}\\right)}^{\\frac{3}{2}}}, t, g_{1626}\\right) - g_{1626} y\\left(0\\right) - \\mathrm{D}_{0}\\left(y\\right)\\left(0\\right)}{g_{1626}^{2}}, g_{1626}, t\\right)\\right]\\)</html>"
      ],
      "text/latex": [
       "$\\displaystyle \\left[x\\left(t\\right) = \\mathcal{L}^{-1}\\left(-\\frac{\\mathit{GM} \\mathcal{L}\\left(\\frac{x\\left(t\\right)}{{\\left(x\\left(t\\right)^{2} + y\\left(t\\right)^{2}\\right)}^{\\frac{3}{2}}}, t, g_{1626}\\right) - g_{1626} x\\left(0\\right) - \\mathrm{D}_{0}\\left(x\\right)\\left(0\\right)}{g_{1626}^{2}}, g_{1626}, t\\right), y\\left(t\\right) = \\mathcal{L}^{-1}\\left(-\\frac{\\mathit{GM} \\mathcal{L}\\left(\\frac{y\\left(t\\right)}{{\\left(x\\left(t\\right)^{2} + y\\left(t\\right)^{2}\\right)}^{\\frac{3}{2}}}, t, g_{1626}\\right) - g_{1626} y\\left(0\\right) - \\mathrm{D}_{0}\\left(y\\right)\\left(0\\right)}{g_{1626}^{2}}, g_{1626}, t\\right)\\right]$"
      ],
      "text/plain": [
       "[x(t) == ilt(-(GM*laplace(x(t)/(x(t)^2 + y(t)^2)^(3/2), t, g1626) - g1626*x(0) - D[0](x)(0))/g1626^2, g1626, t),\n",
       " y(t) == ilt(-(GM*laplace(y(t)/(x(t)^2 + y(t)^2)^(3/2), t, g1626) - g1626*y(0) - D[0](y)(0))/g1626^2, g1626, t)]"
      ]
     },
     "execution_count": 7,
     "metadata": {},
     "output_type": "execute_result"
    }
   ],
   "source": [
    "desolve_system([eq1, eq2], [x,y], ivar=GM)"
   ]
  },
  {
   "cell_type": "code",
   "execution_count": 8,
   "id": "0d3474d0",
   "metadata": {},
   "outputs": [
    {
     "data": {
      "text/html": [
       "<html>\\(\\displaystyle \\left(A, B, D, E\\right)\\)</html>"
      ],
      "text/latex": [
       "$\\displaystyle \\left(A, B, D, E\\right)$"
      ],
      "text/plain": [
       "(A, B, D, E)"
      ]
     },
     "execution_count": 8,
     "metadata": {},
     "output_type": "execute_result"
    }
   ],
   "source": [
    "var('A B D E')"
   ]
  },
  {
   "cell_type": "code",
   "execution_count": 9,
   "id": "83b9830b",
   "metadata": {},
   "outputs": [
    {
     "data": {
      "text/html": [
       "<html>\\(\\displaystyle x\\)</html>"
      ],
      "text/latex": [
       "$\\displaystyle x$"
      ],
      "text/plain": [
       "x"
      ]
     },
     "execution_count": 9,
     "metadata": {},
     "output_type": "execute_result"
    }
   ],
   "source": [
    "var('x')"
   ]
  },
  {
   "cell_type": "code",
   "execution_count": 10,
   "id": "e730f1af",
   "metadata": {},
   "outputs": [],
   "source": [
    "assume(B > 0, 4*A^3 - 27*B > 0)"
   ]
  },
  {
   "cell_type": "code",
   "execution_count": 11,
   "id": "c24c05db",
   "metadata": {},
   "outputs": [],
   "source": [
    "sol = solve(x^3 - A*x^2 + B == 0, x)"
   ]
  },
  {
   "cell_type": "code",
   "execution_count": 12,
   "id": "cdeddb65",
   "metadata": {},
   "outputs": [
    {
     "data": {
      "text/html": [
       "<html>\\(\\displaystyle \\left[x = -\\frac{\\left(\\frac{1}{2}\\right)^{\\frac{2}{3}} A^{2} {\\left(-i \\, \\sqrt{3} + 1\\right)}}{3 \\, {\\left(2 \\, A^{3} + 9 \\, \\sqrt{\\frac{1}{3}} \\sqrt{-{\\left(4 \\, A^{3} - 27 \\, B\\right)} B} - 27 \\, B\\right)}^{\\frac{1}{3}}} - \\frac{1}{6} \\, \\left(\\frac{1}{2}\\right)^{\\frac{1}{3}} {\\left(2 \\, A^{3} + 9 \\, \\sqrt{\\frac{1}{3}} \\sqrt{-{\\left(4 \\, A^{3} - 27 \\, B\\right)} B} - 27 \\, B\\right)}^{\\frac{1}{3}} {\\left(i \\, \\sqrt{3} + 1\\right)} + \\frac{1}{3} \\, A, x = -\\frac{\\left(\\frac{1}{2}\\right)^{\\frac{2}{3}} A^{2} {\\left(i \\, \\sqrt{3} + 1\\right)}}{3 \\, {\\left(2 \\, A^{3} + 9 \\, \\sqrt{\\frac{1}{3}} \\sqrt{-{\\left(4 \\, A^{3} - 27 \\, B\\right)} B} - 27 \\, B\\right)}^{\\frac{1}{3}}} - \\frac{1}{6} \\, \\left(\\frac{1}{2}\\right)^{\\frac{1}{3}} {\\left(2 \\, A^{3} + 9 \\, \\sqrt{\\frac{1}{3}} \\sqrt{-{\\left(4 \\, A^{3} - 27 \\, B\\right)} B} - 27 \\, B\\right)}^{\\frac{1}{3}} {\\left(-i \\, \\sqrt{3} + 1\\right)} + \\frac{1}{3} \\, A, x = \\frac{2 \\, \\left(\\frac{1}{2}\\right)^{\\frac{2}{3}} A^{2}}{3 \\, {\\left(2 \\, A^{3} + 9 \\, \\sqrt{\\frac{1}{3}} \\sqrt{-{\\left(4 \\, A^{3} - 27 \\, B\\right)} B} - 27 \\, B\\right)}^{\\frac{1}{3}}} + \\frac{1}{3} \\, A + \\frac{1}{3} \\, \\left(\\frac{1}{2}\\right)^{\\frac{1}{3}} {\\left(2 \\, A^{3} + 9 \\, \\sqrt{\\frac{1}{3}} \\sqrt{-{\\left(4 \\, A^{3} - 27 \\, B\\right)} B} - 27 \\, B\\right)}^{\\frac{1}{3}}\\right]\\)</html>"
      ],
      "text/latex": [
       "$\\displaystyle \\left[x = -\\frac{\\left(\\frac{1}{2}\\right)^{\\frac{2}{3}} A^{2} {\\left(-i \\, \\sqrt{3} + 1\\right)}}{3 \\, {\\left(2 \\, A^{3} + 9 \\, \\sqrt{\\frac{1}{3}} \\sqrt{-{\\left(4 \\, A^{3} - 27 \\, B\\right)} B} - 27 \\, B\\right)}^{\\frac{1}{3}}} - \\frac{1}{6} \\, \\left(\\frac{1}{2}\\right)^{\\frac{1}{3}} {\\left(2 \\, A^{3} + 9 \\, \\sqrt{\\frac{1}{3}} \\sqrt{-{\\left(4 \\, A^{3} - 27 \\, B\\right)} B} - 27 \\, B\\right)}^{\\frac{1}{3}} {\\left(i \\, \\sqrt{3} + 1\\right)} + \\frac{1}{3} \\, A, x = -\\frac{\\left(\\frac{1}{2}\\right)^{\\frac{2}{3}} A^{2} {\\left(i \\, \\sqrt{3} + 1\\right)}}{3 \\, {\\left(2 \\, A^{3} + 9 \\, \\sqrt{\\frac{1}{3}} \\sqrt{-{\\left(4 \\, A^{3} - 27 \\, B\\right)} B} - 27 \\, B\\right)}^{\\frac{1}{3}}} - \\frac{1}{6} \\, \\left(\\frac{1}{2}\\right)^{\\frac{1}{3}} {\\left(2 \\, A^{3} + 9 \\, \\sqrt{\\frac{1}{3}} \\sqrt{-{\\left(4 \\, A^{3} - 27 \\, B\\right)} B} - 27 \\, B\\right)}^{\\frac{1}{3}} {\\left(-i \\, \\sqrt{3} + 1\\right)} + \\frac{1}{3} \\, A, x = \\frac{2 \\, \\left(\\frac{1}{2}\\right)^{\\frac{2}{3}} A^{2}}{3 \\, {\\left(2 \\, A^{3} + 9 \\, \\sqrt{\\frac{1}{3}} \\sqrt{-{\\left(4 \\, A^{3} - 27 \\, B\\right)} B} - 27 \\, B\\right)}^{\\frac{1}{3}}} + \\frac{1}{3} \\, A + \\frac{1}{3} \\, \\left(\\frac{1}{2}\\right)^{\\frac{1}{3}} {\\left(2 \\, A^{3} + 9 \\, \\sqrt{\\frac{1}{3}} \\sqrt{-{\\left(4 \\, A^{3} - 27 \\, B\\right)} B} - 27 \\, B\\right)}^{\\frac{1}{3}}\\right]$"
      ],
      "text/plain": [
       "[x == -1/3*(1/2)^(2/3)*A^2*(-I*sqrt(3) + 1)/(2*A^3 + 9*sqrt(1/3)*sqrt(-(4*A^3 - 27*B)*B) - 27*B)^(1/3) - 1/6*(1/2)^(1/3)*(2*A^3 + 9*sqrt(1/3)*sqrt(-(4*A^3 - 27*B)*B) - 27*B)^(1/3)*(I*sqrt(3) + 1) + 1/3*A, x == -1/3*(1/2)^(2/3)*A^2*(I*sqrt(3) + 1)/(2*A^3 + 9*sqrt(1/3)*sqrt(-(4*A^3 - 27*B)*B) - 27*B)^(1/3) - 1/6*(1/2)^(1/3)*(2*A^3 + 9*sqrt(1/3)*sqrt(-(4*A^3 - 27*B)*B) - 27*B)^(1/3)*(-I*sqrt(3) + 1) + 1/3*A, x == 2/3*(1/2)^(2/3)*A^2/(2*A^3 + 9*sqrt(1/3)*sqrt(-(4*A^3 - 27*B)*B) - 27*B)^(1/3) + 1/3*A + 1/3*(1/2)^(1/3)*(2*A^3 + 9*sqrt(1/3)*sqrt(-(4*A^3 - 27*B)*B) - 27*B)^(1/3)]"
      ]
     },
     "execution_count": 12,
     "metadata": {},
     "output_type": "execute_result"
    }
   ],
   "source": [
    "sol"
   ]
  },
  {
   "cell_type": "code",
   "execution_count": 13,
   "id": "f6bc6ffe",
   "metadata": {},
   "outputs": [
    {
     "data": {
      "text/html": [
       "<html>\\(\\displaystyle x = \\frac{2^{\\frac{2}{3}} {\\left(2^{\\frac{2}{3}} A^{2} + 2^{\\frac{1}{3}} {\\left(2 \\, A^{3} + 3 \\, \\sqrt{3} \\sqrt{-4 \\, A^{3} B + 27 \\, B^{2}} - 27 \\, B\\right)}^{\\frac{1}{3}} A + {\\left(2 \\, A^{3} + 3 \\, \\sqrt{3} \\sqrt{-4 \\, A^{3} B + 27 \\, B^{2}} - 27 \\, B\\right)}^{\\frac{2}{3}}\\right)}}{6 \\, {\\left(2 \\, A^{3} + 3 \\, \\sqrt{3} \\sqrt{-4 \\, A^{3} B + 27 \\, B^{2}} - 27 \\, B\\right)}^{\\frac{1}{3}}}\\)</html>"
      ],
      "text/latex": [
       "$\\displaystyle x = \\frac{2^{\\frac{2}{3}} {\\left(2^{\\frac{2}{3}} A^{2} + 2^{\\frac{1}{3}} {\\left(2 \\, A^{3} + 3 \\, \\sqrt{3} \\sqrt{-4 \\, A^{3} B + 27 \\, B^{2}} - 27 \\, B\\right)}^{\\frac{1}{3}} A + {\\left(2 \\, A^{3} + 3 \\, \\sqrt{3} \\sqrt{-4 \\, A^{3} B + 27 \\, B^{2}} - 27 \\, B\\right)}^{\\frac{2}{3}}\\right)}}{6 \\, {\\left(2 \\, A^{3} + 3 \\, \\sqrt{3} \\sqrt{-4 \\, A^{3} B + 27 \\, B^{2}} - 27 \\, B\\right)}^{\\frac{1}{3}}}$"
      ],
      "text/plain": [
       "x == 1/6*2^(2/3)*(2^(2/3)*A^2 + 2^(1/3)*(2*A^3 + 3*sqrt(3)*sqrt(-4*A^3*B + 27*B^2) - 27*B)^(1/3)*A + (2*A^3 + 3*sqrt(3)*sqrt(-4*A^3*B + 27*B^2) - 27*B)^(2/3))/(2*A^3 + 3*sqrt(3)*sqrt(-4*A^3*B + 27*B^2) - 27*B)^(1/3)"
      ]
     },
     "execution_count": 13,
     "metadata": {},
     "output_type": "execute_result"
    }
   ],
   "source": [
    "sol[2].simplify_full()"
   ]
  },
  {
   "cell_type": "code",
   "execution_count": 14,
   "id": "8c52e918",
   "metadata": {},
   "outputs": [
    {
     "data": {
      "text/html": [
       "<html>\\(\\displaystyle \\frac{2^{\\frac{2}{3}} {\\left(2^{\\frac{2}{3}} A^{2} + 2^{\\frac{1}{3}} {\\left(2 \\, A^{3} - 27 \\, B + 3 \\, \\sqrt{3} \\sqrt{D}\\right)}^{\\frac{1}{3}} A + {\\left(2 \\, A^{3} - 27 \\, B + 3 \\, \\sqrt{3} \\sqrt{D}\\right)}^{\\frac{2}{3}}\\right)}}{6 \\, {\\left(2 \\, A^{3} - 27 \\, B + 3 \\, \\sqrt{3} \\sqrt{D}\\right)}^{\\frac{1}{3}}}\\)</html>"
      ],
      "text/latex": [
       "$\\displaystyle \\frac{2^{\\frac{2}{3}} {\\left(2^{\\frac{2}{3}} A^{2} + 2^{\\frac{1}{3}} {\\left(2 \\, A^{3} - 27 \\, B + 3 \\, \\sqrt{3} \\sqrt{D}\\right)}^{\\frac{1}{3}} A + {\\left(2 \\, A^{3} - 27 \\, B + 3 \\, \\sqrt{3} \\sqrt{D}\\right)}^{\\frac{2}{3}}\\right)}}{6 \\, {\\left(2 \\, A^{3} - 27 \\, B + 3 \\, \\sqrt{3} \\sqrt{D}\\right)}^{\\frac{1}{3}}}$"
      ],
      "text/plain": [
       "1/6*2^(2/3)*(2^(2/3)*A^2 + 2^(1/3)*(2*A^3 - 27*B + 3*sqrt(3)*sqrt(D))^(1/3)*A + (2*A^3 - 27*B + 3*sqrt(3)*sqrt(D))^(2/3))/(2*A^3 - 27*B + 3*sqrt(3)*sqrt(D))^(1/3)"
      ]
     },
     "execution_count": 14,
     "metadata": {},
     "output_type": "execute_result"
    }
   ],
   "source": [
    "simple = sol[2].simplify_full().rhs().subs(-4*A^3*B + 27*B^2 == D)\n",
    "simple"
   ]
  },
  {
   "cell_type": "code",
   "execution_count": 15,
   "id": "3c1317f7",
   "metadata": {},
   "outputs": [
    {
     "data": {
      "text/html": [
       "<html>\\(\\displaystyle \\frac{2^{\\frac{2}{3}} {\\left(2^{\\frac{2}{3}} A^{2} + 2^{\\frac{1}{3}} A E^{\\frac{1}{3}} + E^{\\frac{2}{3}}\\right)}}{6 \\, E^{\\frac{1}{3}}}\\)</html>"
      ],
      "text/latex": [
       "$\\displaystyle \\frac{2^{\\frac{2}{3}} {\\left(2^{\\frac{2}{3}} A^{2} + 2^{\\frac{1}{3}} A E^{\\frac{1}{3}} + E^{\\frac{2}{3}}\\right)}}{6 \\, E^{\\frac{1}{3}}}$"
      ],
      "text/plain": [
       "1/6*2^(2/3)*(2^(2/3)*A^2 + 2^(1/3)*A*E^(1/3) + E^(2/3))/E^(1/3)"
      ]
     },
     "execution_count": 15,
     "metadata": {},
     "output_type": "execute_result"
    }
   ],
   "source": [
    "simple2 = simple.subs(2*A^3 - 27*B + 3*sqrt(3) * sqrt(D) == E)\n",
    "simple2"
   ]
  },
  {
   "cell_type": "code",
   "execution_count": 16,
   "id": "354e95f2",
   "metadata": {},
   "outputs": [
    {
     "data": {
      "text/html": [
       "<html>\\(\\displaystyle \\frac{2^{\\frac{2}{3}} {\\left(2^{\\frac{2}{3}} A^{2} + 2^{\\frac{1}{3}} A E^{\\frac{1}{3}} + E^{\\frac{2}{3}}\\right)}}{6 \\, E^{\\frac{1}{3}}}\\)</html>"
      ],
      "text/latex": [
       "$\\displaystyle \\frac{2^{\\frac{2}{3}} {\\left(2^{\\frac{2}{3}} A^{2} + 2^{\\frac{1}{3}} A E^{\\frac{1}{3}} + E^{\\frac{2}{3}}\\right)}}{6 \\, E^{\\frac{1}{3}}}$"
      ],
      "text/plain": [
       "1/6*2^(2/3)*(2^(2/3)*A^2 + 2^(1/3)*A*E^(1/3) + E^(2/3))/E^(1/3)"
      ]
     },
     "execution_count": 16,
     "metadata": {},
     "output_type": "execute_result"
    }
   ],
   "source": [
    "simple2.simplify_full()"
   ]
  },
  {
   "cell_type": "code",
   "execution_count": null,
   "id": "902d2e3a",
   "metadata": {},
   "outputs": [],
   "source": []
  }
 ],
 "metadata": {
  "kernelspec": {
   "display_name": "SageMath 9.7",
   "language": "sage",
   "name": "sagemath"
  },
  "language_info": {
   "codemirror_mode": {
    "name": "ipython",
    "version": 3
   },
   "file_extension": ".py",
   "mimetype": "text/x-python",
   "name": "python",
   "nbconvert_exporter": "python",
   "pygments_lexer": "ipython3",
   "version": "3.10.9"
  }
 },
 "nbformat": 4,
 "nbformat_minor": 5
}
